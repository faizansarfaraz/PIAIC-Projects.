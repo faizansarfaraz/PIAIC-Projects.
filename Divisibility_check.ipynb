print("Divisibility check of two numbers")
print("---------------------------------")
print()
numinator = int(input("Enter Numinator:"))
denominator = int(input("Enter Denominator:"))
print()
remainder = numinator % denominator
if remainder==0:
    print("Number", numinator, "is completely divisible by", denominator)
if remainder > 0:
    print("Number", numinator, "is not divisible by", denominator)
if remainder < 0:
    print("Number", numinator, "is not divisible by", denominator)
